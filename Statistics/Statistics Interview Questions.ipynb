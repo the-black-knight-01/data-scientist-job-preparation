{
 "cells": [
  {
   "cell_type": "markdown",
   "id": "ed11fd56",
   "metadata": {},
   "source": [
    "what is bessel's correction and why it is used\n",
    "\n",
    "https://www.youtube.com/watch?v=vGsRwB3TsiE&ab_channel=KrishNaik\n",
    "\n",
    "The calculations for both the sample standard deviation and the sample variance both contain a little bias (that’s the statistics way of saying “error”). \n",
    "\n",
    "Bessel’s correction (i.e. subtracting 1 from your sample size) corrects this bias. \n",
    "\n",
    "In other words, you’ll usually get a more accurate answer if you use n-1 instead of n."
   ]
  },
  {
   "cell_type": "code",
   "execution_count": null,
   "id": "eb0fe124",
   "metadata": {},
   "outputs": [],
   "source": []
  },
  {
   "cell_type": "code",
   "execution_count": null,
   "id": "c950e081",
   "metadata": {},
   "outputs": [],
   "source": []
  }
 ],
 "metadata": {
  "kernelspec": {
   "display_name": "Python 3 (ipykernel)",
   "language": "python",
   "name": "python3"
  },
  "language_info": {
   "codemirror_mode": {
    "name": "ipython",
    "version": 3
   },
   "file_extension": ".py",
   "mimetype": "text/x-python",
   "name": "python",
   "nbconvert_exporter": "python",
   "pygments_lexer": "ipython3",
   "version": "3.11.3"
  }
 },
 "nbformat": 4,
 "nbformat_minor": 5
}
