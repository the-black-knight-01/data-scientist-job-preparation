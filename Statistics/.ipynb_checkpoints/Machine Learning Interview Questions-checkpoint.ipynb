{
 "cells": [
  {
   "cell_type": "markdown",
   "id": "5450cf26",
   "metadata": {},
   "source": [
    "### 1. What’s the Difference Between Probability and Likelihood?\n",
    "Probability quantifies anticipation (of outcome), likelihood quantifies trust (in model).\n",
    "\n",
    "Suppose somebody challenges us to a 'profitable gambling game'. Then, probabilities will serve us to compute things like the expected profile of your gains and loses (mean, mode, median, variance, information ratio, value at risk, gamblers ruin, and so on). In contrast, likelihood will serve us to quantify whether we trust those probabilities in the first place; or whether we 'smell a rat'.\n",
    "\n",
    "If I have a fair coin (parameter value) then the probability that it will come up heads is 0.5. If I flip a coin 100 times and it comes up heads 52 times then it has a high likelihood of being fair (the numeric value of likelihood potentially taking a number of forms).\n",
    "\n",
    "- https://www.youtube.com/watch?v=5TczDUBOH74&ab_channel=UnfoldDataScience\n",
    "- https://medium.com/swlh/probability-vs-likelihood-cdac534bf523"
   ]
  },
  {
   "cell_type": "code",
   "execution_count": null,
   "id": "14c4b636",
   "metadata": {},
   "outputs": [],
   "source": []
  },
  {
   "cell_type": "code",
   "execution_count": null,
   "id": "d6f85aff",
   "metadata": {},
   "outputs": [],
   "source": []
  }
 ],
 "metadata": {
  "kernelspec": {
   "display_name": "Python 3 (ipykernel)",
   "language": "python",
   "name": "python3"
  },
  "language_info": {
   "codemirror_mode": {
    "name": "ipython",
    "version": 3
   },
   "file_extension": ".py",
   "mimetype": "text/x-python",
   "name": "python",
   "nbconvert_exporter": "python",
   "pygments_lexer": "ipython3",
   "version": "3.11.3"
  }
 },
 "nbformat": 4,
 "nbformat_minor": 5
}
